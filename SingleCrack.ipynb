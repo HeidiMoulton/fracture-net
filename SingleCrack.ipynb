{
 "cells": [
  {
   "cell_type": "code",
   "execution_count": 1,
   "metadata": {},
   "outputs": [],
   "source": [
    "import matplotlib\n",
    "import matplotlib.pyplot as plt\n",
    "import torch.nn as nn\n",
    "import torch\n",
    "import pandas as pd\n",
    "import numpy as np\n",
    "import random as r\n",
    "from sklearn.model_selection import train_test_split"
   ]
  },
  {
   "cell_type": "code",
   "execution_count": 22,
   "metadata": {},
   "outputs": [],
   "source": [
    "def normalize(x):\n",
    "    divisor = x.max(0, keepdim=True)[0]\n",
    "    normalization_key= divisor.tolist()[0]\n",
    "    x_normed = x / divisor\n",
    "    return (x_normed, normalization_key)\n"
   ]
  },
  {
   "cell_type": "code",
   "execution_count": 23,
   "metadata": {},
   "outputs": [
    {
     "name": "stdout",
     "output_type": "stream",
     "text": [
      "tensor(1785900., dtype=torch.float64)\n"
     ]
    }
   ],
   "source": [
    "data= np.load('Phase01.npy', mmap_mode=None, allow_pickle=True, fix_imports=True,encoding='ASCII')\n",
    "data = torch.from_numpy(data)\n",
    "print(data[1,3])\n",
    "data, normalization_key = normalize(data)\n",
    "valData, trainData  = train_test_split(data, train_size=.2, random_state=3)\n",
    "trainInput = trainData[ :,0:3]\n",
    "trainOutput = trainData[ :,3]\n",
    "trainOutput = trainOutput.reshape(-1, 1)\n",
    "\n",
    "valInput = valData[ :,0:3]\n",
    "valOutput = valData[ :,3]\n",
    "valOutput = valOutput.reshape(-1, 1)\n",
    "\n",
    "\n"
   ]
  },
  {
   "cell_type": "code",
   "execution_count": 24,
   "metadata": {},
   "outputs": [
    {
     "data": {
      "text/plain": [
       "torch.Size([2970, 4])"
      ]
     },
     "execution_count": 24,
     "metadata": {},
     "output_type": "execute_result"
    }
   ],
   "source": [
    "data.shape"
   ]
  },
  {
   "cell_type": "code",
   "execution_count": 25,
   "metadata": {},
   "outputs": [
    {
     "data": {
      "text/plain": [
       "ModeI(\n",
       "  (fc1): Linear(in_features=3, out_features=16, bias=True)\n",
       "  (relu1): ReLU()\n",
       "  (fc2): Linear(in_features=16, out_features=16, bias=True)\n",
       "  (relu2): ReLU()\n",
       "  (fc3): Linear(in_features=16, out_features=1, bias=True)\n",
       "  (act_output): Sigmoid()\n",
       ")"
      ]
     },
     "execution_count": 25,
     "metadata": {},
     "output_type": "execute_result"
    }
   ],
   "source": [
    "class ModeI(nn.Module):\n",
    "\n",
    "    def __init__(self, input_size, hidden1_size, hidden2_size, num_classes):\n",
    "\n",
    "        super(ModeI, self).__init__()\n",
    "        self.fc1 = nn.Linear(input_size, hidden1_size)\n",
    "        self.relu1 = nn.ReLU()\n",
    "        self.fc2 = nn.Linear(hidden1_size, hidden2_size)\n",
    "        self.relu2 = nn.ReLU()\n",
    "        self.fc3 = nn.Linear(hidden2_size, num_classes)\n",
    "        self.act_output = nn.Sigmoid()\n",
    "\n",
    "    def forward(self,x):\n",
    "        out = self.fc1(x)\n",
    "        out = self.relu1(out)\n",
    "        out = self.fc2(out)\n",
    "        out = self.relu2(out)\n",
    "        out = self.fc3(out)\n",
    "        out = self.act_output(out)\n",
    "        return out\n",
    "model = ModeI(3,16,16,1)\n",
    "model.double()\n",
    "\n"
   ]
  },
  {
   "cell_type": "code",
   "execution_count": 26,
   "metadata": {},
   "outputs": [],
   "source": [
    "loss_fn = nn.BCELoss()\n",
    "optimizer = torch.optim.Adam(model.parameters(), lr = 0.001)"
   ]
  },
  {
   "cell_type": "code",
   "execution_count": 27,
   "metadata": {},
   "outputs": [],
   "source": [
    "# compute accuracy (no_grad is optional)\n",
    "def deviation():\n",
    "    with torch.no_grad():\n",
    "        y_pred = model(valInput)\n",
    "\n",
    "    accuracy = ((abs(y_pred-valOutput)).float().mean())\n",
    "    return f\"Deviation {accuracy}\"\n"
   ]
  },
  {
   "cell_type": "code",
   "execution_count": 28,
   "metadata": {},
   "outputs": [],
   "source": [
    "\n",
    "\n",
    "def train(batch_size,epoch_number):\n",
    "    for epoch in range(epoch_number):\n",
    "        for i in range(0, len(trainInput), batch_size):\n",
    "            Xbatch = trainInput[i:i+batch_size]\n",
    "            y_pred = model(Xbatch)\n",
    "            ybatch = trainOutput[i:i+batch_size]\n",
    "            loss = loss_fn(y_pred, ybatch)\n",
    "            optimizer.zero_grad()\n",
    "            loss.backward()\n",
    "            optimizer.step()\n",
    "        print(f\"Finished epoch {epoch}, latest loss{loss}, {deviation()}\")\n",
    "\n",
    "    \n"
   ]
  },
  {
   "cell_type": "code",
   "execution_count": 29,
   "metadata": {},
   "outputs": [
    {
     "name": "stdout",
     "output_type": "stream",
     "text": [
      "Finished epoch 0, latest loss0.24771282742067086, Deviation 0.05251574143767357\n",
      "Finished epoch 1, latest loss0.20876556123093098, Deviation 0.02619709074497223\n",
      "Finished epoch 2, latest loss0.2056991810056154, Deviation 0.024295736104249954\n",
      "Finished epoch 3, latest loss0.20582747314418212, Deviation 0.021781062707304955\n",
      "Finished epoch 4, latest loss0.20582779280670846, Deviation 0.019514048472046852\n",
      "Finished epoch 5, latest loss0.20570446339942902, Deviation 0.017782242968678474\n",
      "Finished epoch 6, latest loss0.20558540693218974, Deviation 0.01655220240354538\n",
      "Finished epoch 7, latest loss0.20546687564668975, Deviation 0.01604580320417881\n",
      "Finished epoch 8, latest loss0.2053140875889452, Deviation 0.0155853983014822\n",
      "Finished epoch 9, latest loss0.20507461322851744, Deviation 0.01548720058053732\n",
      "Finished epoch 10, latest loss0.20490343490454976, Deviation 0.015170887112617493\n",
      "Finished epoch 11, latest loss0.20461673111895956, Deviation 0.015124352648854256\n",
      "Finished epoch 12, latest loss0.20425016942024765, Deviation 0.015090799890458584\n",
      "Finished epoch 13, latest loss0.20393714527792864, Deviation 0.014864303171634674\n",
      "Finished epoch 14, latest loss0.20369233737292625, Deviation 0.01465640589594841\n",
      "Finished epoch 15, latest loss0.20348598005036622, Deviation 0.014497561380267143\n",
      "Finished epoch 16, latest loss0.20331634590139966, Deviation 0.014376460574567318\n",
      "Finished epoch 17, latest loss0.2032196031659923, Deviation 0.014303808100521564\n",
      "Finished epoch 18, latest loss0.20316151982908537, Deviation 0.014409930445253849\n",
      "Finished epoch 19, latest loss0.2031376528973043, Deviation 0.014282372780144215\n",
      "Finished epoch 0, latest loss0.43143659795581835, Deviation 0.014349211938679218\n",
      "Finished epoch 1, latest loss0.4315044722091943, Deviation 0.014150924980640411\n",
      "Finished epoch 2, latest loss0.43154728965597694, Deviation 0.014065535739064217\n",
      "Finished epoch 3, latest loss0.43157290591689595, Deviation 0.014033892191946507\n",
      "Finished epoch 4, latest loss0.431605928822495, Deviation 0.014048281125724316\n",
      "Finished epoch 5, latest loss0.4316091180935117, Deviation 0.014023215509951115\n",
      "Finished epoch 6, latest loss0.43162989468480717, Deviation 0.014005148783326149\n",
      "Finished epoch 7, latest loss0.4316356538249398, Deviation 0.014002680778503418\n",
      "Finished epoch 8, latest loss0.4316516570006152, Deviation 0.013988862745463848\n",
      "Finished epoch 9, latest loss0.43166137380205843, Deviation 0.013984951190650463\n",
      "Finished epoch 10, latest loss0.4316596764152701, Deviation 0.013981790281832218\n",
      "Finished epoch 11, latest loss0.43167940496020285, Deviation 0.013969902880489826\n",
      "Finished epoch 12, latest loss0.4316775630392562, Deviation 0.013965622521936893\n",
      "Finished epoch 13, latest loss0.43167866403093313, Deviation 0.013958706520497799\n",
      "Finished epoch 14, latest loss0.43168792745087986, Deviation 0.013951071538031101\n",
      "Finished epoch 15, latest loss0.4316815155618645, Deviation 0.013949327170848846\n",
      "Finished epoch 16, latest loss0.43169400260184637, Deviation 0.013936519622802734\n",
      "Finished epoch 17, latest loss0.4316816254298268, Deviation 0.013913443312048912\n",
      "Finished epoch 18, latest loss0.43168279710686347, Deviation 0.013912342488765717\n",
      "Finished epoch 19, latest loss0.4317097244297184, Deviation 0.013917439617216587\n",
      "Finished epoch 0, latest loss0.4944876121530038, Deviation 0.013851170428097248\n",
      "Finished epoch 1, latest loss0.49447327961252685, Deviation 0.013867238536477089\n",
      "Finished epoch 2, latest loss0.4944959470216443, Deviation 0.013896946795284748\n",
      "Finished epoch 3, latest loss0.49449236092798693, Deviation 0.013946830295026302\n",
      "Finished epoch 4, latest loss0.4944984448785499, Deviation 0.014044721610844135\n",
      "Finished epoch 5, latest loss0.494537473007285, Deviation 0.014087075367569923\n",
      "Finished epoch 6, latest loss0.49453886105088274, Deviation 0.014135200530290604\n",
      "Finished epoch 7, latest loss0.4945410785169503, Deviation 0.01416741032153368\n",
      "Finished epoch 8, latest loss0.4945431091997745, Deviation 0.014194459654390812\n",
      "Finished epoch 9, latest loss0.49454726788596837, Deviation 0.01421262789517641\n",
      "Finished epoch 10, latest loss0.49454319883897885, Deviation 0.014222371391952038\n",
      "Finished epoch 11, latest loss0.4945480218070997, Deviation 0.014231834560632706\n",
      "Finished epoch 12, latest loss0.49454517478896165, Deviation 0.014233017340302467\n",
      "Finished epoch 13, latest loss0.4945420970432899, Deviation 0.014233476482331753\n",
      "Finished epoch 14, latest loss0.49454962352786147, Deviation 0.0142417773604393\n",
      "Finished epoch 15, latest loss0.49454513439527203, Deviation 0.014237519353628159\n",
      "Finished epoch 16, latest loss0.49455039201410844, Deviation 0.01424405351281166\n",
      "Finished epoch 17, latest loss0.49454560883477305, Deviation 0.014236806891858578\n",
      "Finished epoch 18, latest loss0.49454802282154947, Deviation 0.014240343123674393\n",
      "Finished epoch 19, latest loss0.49455130457658864, Deviation 0.014242050237953663\n",
      "Finished epoch 0, latest loss0.2034678125165898, Deviation 0.014340345747768879\n",
      "Finished epoch 1, latest loss0.20325831866387828, Deviation 0.01435475517064333\n",
      "Finished epoch 2, latest loss0.20322527776991373, Deviation 0.014094341546297073\n",
      "Finished epoch 3, latest loss0.20319143486389024, Deviation 0.014054836705327034\n",
      "Finished epoch 4, latest loss0.2031416936795663, Deviation 0.01402886863797903\n",
      "Finished epoch 5, latest loss0.20305804607559536, Deviation 0.014198258519172668\n",
      "Finished epoch 6, latest loss0.20305465488070734, Deviation 0.014192000031471252\n",
      "Finished epoch 7, latest loss0.20301960742794428, Deviation 0.014182966202497482\n",
      "Finished epoch 8, latest loss0.20301618723578962, Deviation 0.014172391965985298\n",
      "Finished epoch 9, latest loss0.2029964521501953, Deviation 0.014170094393193722\n",
      "Finished epoch 10, latest loss0.20297418436325, Deviation 0.014167440123856068\n",
      "Finished epoch 11, latest loss0.2029734504225122, Deviation 0.014163323678076267\n",
      "Finished epoch 12, latest loss0.20294787618365048, Deviation 0.014174048788845539\n",
      "Finished epoch 13, latest loss0.20294051266908186, Deviation 0.014161799103021622\n",
      "Finished epoch 14, latest loss0.20293324394613904, Deviation 0.01415397971868515\n",
      "Finished epoch 15, latest loss0.20293488498513532, Deviation 0.014159799553453922\n",
      "Finished epoch 16, latest loss0.20291760940418163, Deviation 0.01415181066840887\n",
      "Finished epoch 17, latest loss0.20292702705962562, Deviation 0.014146268367767334\n",
      "Finished epoch 18, latest loss0.20290355273568741, Deviation 0.014148039743304253\n",
      "Finished epoch 19, latest loss0.20292049110473798, Deviation 0.014148558489978313\n"
     ]
    }
   ],
   "source": [
    "train(5,20)\n",
    "train(3,20)\n",
    "train(9,20)\n",
    "train(5,20)\n",
    "\n"
   ]
  },
  {
   "cell_type": "code",
   "execution_count": 30,
   "metadata": {},
   "outputs": [],
   "source": [
    "def kequals(force,a, t):\n",
    "    answer = model(torch.DoubleTensor([force/normalization_key[0],a/normalization_key[1],t/normalization_key[2]]))\n",
    "    return answer*normalization_key[3]"
   ]
  },
  {
   "cell_type": "code",
   "execution_count": 31,
   "metadata": {},
   "outputs": [
    {
     "data": {
      "text/plain": [
       "tensor([13931114.8115], dtype=torch.float64, grad_fn=<MulBackward0>)"
      ]
     },
     "execution_count": 31,
     "metadata": {},
     "output_type": "execute_result"
    }
   ],
   "source": [
    "kequals(53000000,.015,.011)"
   ]
  },
  {
   "cell_type": "code",
   "execution_count": 32,
   "metadata": {},
   "outputs": [
    {
     "data": {
      "text/plain": [
       "34738000.0"
      ]
     },
     "execution_count": 32,
     "metadata": {},
     "output_type": "execute_result"
    }
   ],
   "source": [
    "normalization_key[3]"
   ]
  },
  {
   "cell_type": "code",
   "execution_count": 33,
   "metadata": {},
   "outputs": [
    {
     "data": {
      "text/plain": [
       "'Deviation 0.014148558489978313'"
      ]
     },
     "execution_count": 33,
     "metadata": {},
     "output_type": "execute_result"
    }
   ],
   "source": [
    "deviation()"
   ]
  },
  {
   "cell_type": "code",
   "execution_count": null,
   "metadata": {},
   "outputs": [],
   "source": []
  }
 ],
 "metadata": {
  "kernelspec": {
   "display_name": "Python 3",
   "language": "python",
   "name": "python3"
  },
  "language_info": {
   "codemirror_mode": {
    "name": "ipython",
    "version": 3
   },
   "file_extension": ".py",
   "mimetype": "text/x-python",
   "name": "python",
   "nbconvert_exporter": "python",
   "pygments_lexer": "ipython3",
   "version": "3.10.11"
  },
  "orig_nbformat": 4,
  "vscode": {
   "interpreter": {
    "hash": "ae5c45ed361ae7931947eb6736b8538b58c863044bcac6b4eb761216a81fec92"
   }
  }
 },
 "nbformat": 4,
 "nbformat_minor": 2
}
