{
 "cells": [
  {
   "cell_type": "code",
   "execution_count": 1,
   "metadata": {},
   "outputs": [],
   "source": [
    "import matplotlib.pyplot as plt\n",
    "import torch.nn as nn\n",
    "import torch\n",
    "import numpy as np\n",
    "from sklearn.model_selection import train_test_split"
   ]
  },
  {
   "cell_type": "code",
   "execution_count": 2,
   "metadata": {},
   "outputs": [],
   "source": [
    "#normalizes data between -1 and 1\n",
    "#returns normalized data and the factors used to normalzie \n",
    "def normalize(x):\n",
    "    maxes = x.max(0, keepdim=True)[0]\n",
    "    x_normed = x / x.max(0, keepdim=True)[0]\n",
    "    return (x_normed, maxes)\n"
   ]
  },
  {
   "cell_type": "code",
   "execution_count": 3,
   "metadata": {},
   "outputs": [],
   "source": [
    "#Convert data to tensor, trim, and normalize \n",
    "data= np.load('Phase02.npy', mmap_mode=None, allow_pickle=True, fix_imports=True,encoding='ASCII')\n",
    "data = data[:,[0,2,3,4,5,6,7,8,9]] #edits out blank column \n",
    "data = torch.from_numpy(data)\n",
    "data, normalization_factor = normalize(data)\n",
    "\n",
    "#Break into training and validation and split inputs from outputs\n",
    "valData, trainData  = train_test_split(data, train_size=.2, random_state=3)\n",
    "trainInput = trainData[ :,0:7]\n",
    "trainOutput = trainData[ :,7:9]\n",
    "valInput = valData[ :,0:7]\n",
    "valOutput = valData[ :,7:9]\n",
    "\n",
    "\n",
    "\n"
   ]
  },
  {
   "cell_type": "code",
   "execution_count": 4,
   "metadata": {},
   "outputs": [
    {
     "data": {
      "text/plain": [
       "torch.Size([2187, 9])"
      ]
     },
     "execution_count": 4,
     "metadata": {},
     "output_type": "execute_result"
    }
   ],
   "source": [
    "#output the shape of given data set\n",
    "#used to ensure proper triming and sectioning\n",
    "data.shape\n"
   ]
  },
  {
   "cell_type": "code",
   "execution_count": 5,
   "metadata": {},
   "outputs": [
    {
     "data": {
      "text/plain": [
       "ModeI(\n",
       "  (fc1): Linear(in_features=7, out_features=64, bias=True)\n",
       "  (relu1): ReLU()\n",
       "  (fc2): Linear(in_features=64, out_features=64, bias=True)\n",
       "  (relu2): ReLU()\n",
       "  (fc3): Linear(in_features=64, out_features=2, bias=True)\n",
       "  (act_output): Sigmoid()\n",
       ")"
      ]
     },
     "execution_count": 5,
     "metadata": {},
     "output_type": "execute_result"
    }
   ],
   "source": [
    "#Build each layer of nueral network\n",
    "#Provide forward method to train network\n",
    "class ModeI(nn.Module):\n",
    "    def __init__(self, input_size, hidden1_size, hidden2_size, num_classes):\n",
    "        #Initialzing layers\n",
    "        super(ModeI, self).__init__()\n",
    "        self.fc1 = nn.Linear(input_size, hidden1_size)\n",
    "        self.relu1 = nn.ReLU()\n",
    "        self.fc2 = nn.Linear(hidden1_size, hidden2_size)\n",
    "        self.relu2 = nn.ReLU()\n",
    "        self.fc3 = nn.Linear(hidden2_size, num_classes)\n",
    "        self.act_output = nn.Sigmoid()\n",
    "    #training function\n",
    "    def forward(self,x):\n",
    "        out = self.fc1(x)\n",
    "        out = self.relu1(out)\n",
    "        out = self.fc2(out)\n",
    "        out = self.relu2(out)\n",
    "        out = self.fc3(out)\n",
    "        out = self.act_output(out)\n",
    "        return out\n",
    "    \n",
    "#Instantiate class with input, hidden layer, and output size \n",
    "model = ModeI(7,64,64,2)\n",
    "#Change to double data type\n",
    "model.double()\n",
    "\n"
   ]
  },
  {
   "cell_type": "code",
   "execution_count": 6,
   "metadata": {},
   "outputs": [],
   "source": [
    "loss_fn = nn.BCELoss()\n",
    "optimizer = torch.optim.Adam(model.parameters(), lr = 0.001)"
   ]
  },
  {
   "cell_type": "code",
   "execution_count": 7,
   "metadata": {},
   "outputs": [],
   "source": [
    "# compute accuracy (no_grad is optional)\n",
    "def deviation():\n",
    "    with torch.no_grad():\n",
    "        y_pred = model(valInput)\n",
    "\n",
    "    accuracy = (abs(y_pred-valOutput)).float().mean()\n",
    "    return (f\"Deviation: {100*accuracy}%\")\n"
   ]
  },
  {
   "cell_type": "code",
   "execution_count": 8,
   "metadata": {},
   "outputs": [],
   "source": [
    "#training loop \n",
    "def train(epoch_number, batch_size):\n",
    "    for epoch in range(epoch_number):\n",
    "        for i in range(0, len(trainInput), batch_size):\n",
    "            Xbatch = trainInput[i:i+batch_size]\n",
    "            y_pred = model(Xbatch)\n",
    "            ybatch = trainOutput[i:i+batch_size]\n",
    "            loss = loss_fn(y_pred, ybatch)\n",
    "            optimizer.zero_grad()\n",
    "            loss.backward()\n",
    "            optimizer.step()\n",
    "        print(f\"Finished epoch {epoch}, {deviation()}\")\n"
   ]
  },
  {
   "cell_type": "code",
   "execution_count": 9,
   "metadata": {},
   "outputs": [
    {
     "name": "stderr",
     "output_type": "stream",
     "text": [
      "C:\\Users\\USU\\AppData\\Local\\Packages\\PythonSoftwareFoundation.Python.3.10_qbz5n2kfra8p0\\LocalCache\\local-packages\\Python310\\site-packages\\torch\\autograd\\__init__.py:200: UserWarning: CUDA initialization: The NVIDIA driver on your system is too old (found version 7050). Please update your GPU driver by downloading and installing a new version from the URL: http://www.nvidia.com/Download/index.aspx Alternatively, go to: https://pytorch.org to install a PyTorch version that has been compiled with your version of the CUDA driver. (Triggered internally at ..\\c10\\cuda\\CUDAFunctions.cpp:109.)\n",
      "  Variable._execution_engine.run_backward(  # Calls into the C++ engine to run the backward pass\n"
     ]
    },
    {
     "name": "stdout",
     "output_type": "stream",
     "text": [
      "Finished epoch 0, Deviation: 13.562482833862305%\n",
      "Finished epoch 1, Deviation: 12.024223327636719%\n",
      "Finished epoch 2, Deviation: 11.27667236328125%\n",
      "Finished epoch 3, Deviation: 10.774805068969727%\n",
      "Finished epoch 4, Deviation: 10.429691314697266%\n",
      "Finished epoch 5, Deviation: 10.130255699157715%\n",
      "Finished epoch 6, Deviation: 9.754111289978027%\n",
      "Finished epoch 7, Deviation: 9.427053451538086%\n",
      "Finished epoch 8, Deviation: 8.970239639282227%\n",
      "Finished epoch 9, Deviation: 8.575637817382812%\n",
      "Finished epoch 10, Deviation: 7.979447364807129%\n",
      "Finished epoch 11, Deviation: 7.379735946655273%\n",
      "Finished epoch 12, Deviation: 6.738469123840332%\n",
      "Finished epoch 13, Deviation: 6.323631286621094%\n",
      "Finished epoch 14, Deviation: 5.982227802276611%\n",
      "Finished epoch 15, Deviation: 5.266170978546143%\n",
      "Finished epoch 16, Deviation: 4.806314468383789%\n",
      "Finished epoch 17, Deviation: 4.43048095703125%\n",
      "Finished epoch 18, Deviation: 3.973677635192871%\n",
      "Finished epoch 19, Deviation: 3.50191068649292%\n",
      "Finished epoch 20, Deviation: 3.0931408405303955%\n",
      "Finished epoch 21, Deviation: 2.697953701019287%\n",
      "Finished epoch 22, Deviation: 2.4441475868225098%\n",
      "Finished epoch 23, Deviation: 2.2577760219573975%\n",
      "Finished epoch 24, Deviation: 2.1141576766967773%\n",
      "Finished epoch 25, Deviation: 2.038782835006714%\n",
      "Finished epoch 26, Deviation: 1.9929636716842651%\n",
      "Finished epoch 27, Deviation: 1.8770396709442139%\n",
      "Finished epoch 28, Deviation: 1.8999663591384888%\n",
      "Finished epoch 29, Deviation: 1.8744425773620605%\n",
      "Finished epoch 0, Deviation: 1.5430924892425537%\n",
      "Finished epoch 1, Deviation: 1.5515854358673096%\n",
      "Finished epoch 2, Deviation: 1.5523865222930908%\n",
      "Finished epoch 3, Deviation: 1.5178380012512207%\n",
      "Finished epoch 4, Deviation: 1.523990511894226%\n",
      "Finished epoch 5, Deviation: 1.4978355169296265%\n",
      "Finished epoch 6, Deviation: 1.455633282661438%\n",
      "Finished epoch 7, Deviation: 1.4450682401657104%\n",
      "Finished epoch 8, Deviation: 1.4530932903289795%\n",
      "Finished epoch 9, Deviation: 1.4383612871170044%\n",
      "Finished epoch 10, Deviation: 1.4458590745925903%\n",
      "Finished epoch 11, Deviation: 1.421144723892212%\n",
      "Finished epoch 12, Deviation: 1.4107221364974976%\n",
      "Finished epoch 13, Deviation: 1.3929412364959717%\n",
      "Finished epoch 14, Deviation: 1.3768973350524902%\n",
      "Finished epoch 15, Deviation: 1.4092172384262085%\n",
      "Finished epoch 16, Deviation: 1.3872407674789429%\n",
      "Finished epoch 17, Deviation: 1.364673376083374%\n",
      "Finished epoch 18, Deviation: 1.3910549879074097%\n",
      "Finished epoch 19, Deviation: 1.3970463275909424%\n",
      "Finished epoch 20, Deviation: 1.3707841634750366%\n",
      "Finished epoch 21, Deviation: 1.3587088584899902%\n",
      "Finished epoch 22, Deviation: 1.3713741302490234%\n",
      "Finished epoch 23, Deviation: 1.407049298286438%\n",
      "Finished epoch 24, Deviation: 1.415565848350525%\n",
      "Finished epoch 25, Deviation: 1.3731082677841187%\n",
      "Finished epoch 26, Deviation: 1.3874061107635498%\n",
      "Finished epoch 27, Deviation: 1.4160295724868774%\n",
      "Finished epoch 28, Deviation: 1.436578631401062%\n",
      "Finished epoch 29, Deviation: 1.4026967287063599%\n",
      "Finished epoch 0, Deviation: 1.5191148519515991%\n",
      "Finished epoch 1, Deviation: 1.5571322441101074%\n",
      "Finished epoch 2, Deviation: 1.4329383373260498%\n",
      "Finished epoch 3, Deviation: 1.4048036336898804%\n",
      "Finished epoch 4, Deviation: 1.3448154926300049%\n",
      "Finished epoch 5, Deviation: 1.3651926517486572%\n",
      "Finished epoch 6, Deviation: 1.3353029489517212%\n",
      "Finished epoch 7, Deviation: 1.4240561723709106%\n",
      "Finished epoch 8, Deviation: 1.4459067583084106%\n",
      "Finished epoch 9, Deviation: 1.4590078592300415%\n",
      "Finished epoch 10, Deviation: 1.3976635932922363%\n",
      "Finished epoch 11, Deviation: 1.3874595165252686%\n",
      "Finished epoch 12, Deviation: 1.432221531867981%\n",
      "Finished epoch 13, Deviation: 1.4298325777053833%\n",
      "Finished epoch 14, Deviation: 1.4319877624511719%\n",
      "Finished epoch 15, Deviation: 1.3941941261291504%\n",
      "Finished epoch 16, Deviation: 1.3915092945098877%\n",
      "Finished epoch 17, Deviation: 1.4006454944610596%\n",
      "Finished epoch 18, Deviation: 1.3678193092346191%\n",
      "Finished epoch 19, Deviation: 1.326445460319519%\n",
      "Finished epoch 20, Deviation: 1.400134801864624%\n",
      "Finished epoch 21, Deviation: 1.4328136444091797%\n",
      "Finished epoch 22, Deviation: 1.5667530298233032%\n",
      "Finished epoch 23, Deviation: 1.5643786191940308%\n",
      "Finished epoch 24, Deviation: 1.5953524112701416%\n",
      "Finished epoch 25, Deviation: 1.5811482667922974%\n",
      "Finished epoch 26, Deviation: 1.5684256553649902%\n",
      "Finished epoch 27, Deviation: 1.5321248769760132%\n",
      "Finished epoch 28, Deviation: 1.6319870948791504%\n",
      "Finished epoch 29, Deviation: 1.606644868850708%\n",
      "Finished epoch 0, Deviation: 1.4105654954910278%\n",
      "Finished epoch 1, Deviation: 1.3951802253723145%\n",
      "Finished epoch 2, Deviation: 1.4363690614700317%\n",
      "Finished epoch 3, Deviation: 1.3333948850631714%\n",
      "Finished epoch 4, Deviation: 1.3552004098892212%\n",
      "Finished epoch 5, Deviation: 1.351516842842102%\n",
      "Finished epoch 6, Deviation: 1.4259374141693115%\n",
      "Finished epoch 7, Deviation: 1.400549054145813%\n",
      "Finished epoch 8, Deviation: 1.5149058103561401%\n",
      "Finished epoch 9, Deviation: 1.4993902444839478%\n",
      "Finished epoch 10, Deviation: 1.4236961603164673%\n",
      "Finished epoch 11, Deviation: 1.3891055583953857%\n",
      "Finished epoch 12, Deviation: 1.4731566905975342%\n",
      "Finished epoch 13, Deviation: 1.4169849157333374%\n",
      "Finished epoch 14, Deviation: 1.4979768991470337%\n",
      "Finished epoch 15, Deviation: 1.4383505582809448%\n",
      "Finished epoch 16, Deviation: 1.3700295686721802%\n",
      "Finished epoch 17, Deviation: 1.328540325164795%\n",
      "Finished epoch 18, Deviation: 1.2872459888458252%\n",
      "Finished epoch 19, Deviation: 1.2901287078857422%\n",
      "Finished epoch 20, Deviation: 1.3970857858657837%\n",
      "Finished epoch 21, Deviation: 1.3375372886657715%\n",
      "Finished epoch 22, Deviation: 1.4093189239501953%\n",
      "Finished epoch 23, Deviation: 1.3868210315704346%\n",
      "Finished epoch 24, Deviation: 1.379486322402954%\n",
      "Finished epoch 25, Deviation: 1.2939605712890625%\n",
      "Finished epoch 26, Deviation: 1.439881682395935%\n",
      "Finished epoch 27, Deviation: 1.4480077028274536%\n",
      "Finished epoch 28, Deviation: 1.5069639682769775%\n",
      "Finished epoch 29, Deviation: 1.481812596321106%\n"
     ]
    }
   ],
   "source": [
    "train(30,5)\n",
    "train(30,7)\n",
    "train(30,3)\n",
    "train(30,5)"
   ]
  },
  {
   "cell_type": "code",
   "execution_count": 10,
   "metadata": {},
   "outputs": [],
   "source": [
    "# find k value for given input adjusting for normalization\n",
    "\n",
    "def kequals(inputs):\n",
    "    answer = model(torch.DoubleTensor(inputs)/normalization_factor[:,0:7])\n",
    "    return (answer*normalization_factor[:,7:9]).tolist()[0]"
   ]
  },
  {
   "cell_type": "code",
   "execution_count": 11,
   "metadata": {},
   "outputs": [],
   "source": [
    "load = 100000000\n",
    "distance = .06\n",
    "a1 = 0.02\n",
    "a2 = 0.02\n",
    "theta1 = .314\n",
    "theta2 = .314\n",
    "thickness = 0.01\n",
    "\n",
    "x = []\n",
    "k1 = []\n",
    "k2 =[]\n",
    "for i in range(100):\n",
    "    varies = .01 + i*.01/100\n",
    "    x.append(varies)\n",
    "    answer = kequals([load, distance, a1,a2,theta1,theta2,varies])\n",
    "    k1.append(answer[0])\n",
    "    k2.append(answer[1])\n",
    "\n",
    "\n",
    "\n"
   ]
  },
  {
   "cell_type": "code",
   "execution_count": 12,
   "metadata": {},
   "outputs": [
    {
     "data": {
      "image/png": "[encoded data removed]",
      "text/plain": [
       "<Figure size 640x480 with 1 Axes>"
      ]
     },
     "metadata": {},
     "output_type": "display_data"
    }
   ],
   "source": [
    "#Output scatter plot for K1\n",
    "plt.scatter(x,k1)\n",
    "plt.xlabel(f\"Thickness (m)\\n\\nLoading={load} Pa, Distance={distance}, a1= {a1} m, a2={a2} m, \\ntheta1={theta1}, theta2={theta2}, thickness=m\")\n",
    "plt.ylabel(\"K1\")\n",
    "plt.show()"
   ]
  },
  {
   "cell_type": "code",
   "execution_count": 13,
   "metadata": {},
   "outputs": [
    {
     "data": {
      "image/png": "[encoded data removed]",
      "text/plain": [
       "<Figure size 640x480 with 1 Axes>"
      ]
     },
     "metadata": {},
     "output_type": "display_data"
    }
   ],
   "source": [
    "#Output scatter plot for K2\n",
    "plt.scatter(x,k2)\n",
    "plt.xlabel(f\"Thickness (m)\\n\\nLoading={load} Pa, Distance={distance}, a1= {a1} m, a2={a2} m, \\ntheta1={theta1}, theta2={theta2}, thickness=m\")\n",
    "plt.ylabel(\"K2\")\n",
    "plt.show()"
   ]
  },
  {
   "cell_type": "code",
   "execution_count": null,
   "metadata": {},
   "outputs": [],
   "source": []
  },
  {
   "cell_type": "code",
   "execution_count": null,
   "metadata": {},
   "outputs": [],
   "source": []
  }
 ],
 "metadata": {
  "kernelspec": {
   "display_name": "Python 3",
   "language": "python",
   "name": "python3"
  },
  "language_info": {
   "codemirror_mode": {
    "name": "ipython",
    "version": 3
   },
   "file_extension": ".py",
   "mimetype": "text/x-python",
   "name": "python",
   "nbconvert_exporter": "python",
   "pygments_lexer": "ipython3",
   "version": "3.10.11"
  },
  "orig_nbformat": 4,
  "vscode": {
   "interpreter": {
    "hash": "31f2aee4e71d21fbe5cf8b01ff0e069b9275f58929596ceb00d14d90e3e16cd6"
   }
  }
 },
 "nbformat": 4,
 "nbformat_minor": 2
}
